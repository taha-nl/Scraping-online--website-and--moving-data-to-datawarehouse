{
 "cells": [
  {
   "cell_type": "code",
   "execution_count": 21,
   "metadata": {},
   "outputs": [],
   "source": [
    "import pandas as pd\n",
    "import numpy as np\n",
    "import seaborn as sns\n",
    "import matplotlib.pyplot as plt\n",
    "%matplotlib inline\n",
    "import warnings\n",
    "warnings.filterwarnings(\"ignore\")\n",
    "import re\n",
    "import psycopg2"
   ]
  },
  {
   "cell_type": "code",
   "execution_count": 22,
   "metadata": {},
   "outputs": [],
   "source": [
    "def Extract(file):\n",
    "    df=pd.read_csv(file)\n",
    "    return df"
   ]
  },
  {
   "cell_type": "code",
   "execution_count": 23,
   "metadata": {},
   "outputs": [],
   "source": [
    "df=pd.read_csv(\"immobilier_avito-final.csv\")"
   ]
  },
  {
   "cell_type": "code",
   "execution_count": 24,
   "metadata": {},
   "outputs": [],
   "source": [
    "def Transform(df):\n",
    "\n",
    "    df.drop([\"frais_syndic\",\"kind\"],axis=1,inplace=True)\n",
    "\n",
    "    ### fixing surface\n",
    "    pattern = r\"(\\d+)m²|(\\d+)m|(\\d+)\\smètre|(\\d+)\\sm²|(\\d+)\\sm\"\n",
    "    df_name=df[\"name\"].str.extract(pattern)\n",
    "    df_name['surface'] = df_name.apply(lambda x: x.dropna().iloc[0] if x.count() > 0 else np.nan, axis=1)\n",
    "    df[\"surface\"]=df_name[\"surface\"]\n",
    "    df_descriptions=df[\"descriptions\"].str.extract(pattern)\n",
    "    df_descriptions['surface'] = df_descriptions.apply(lambda x: x.dropna().iloc[0] if x.count() > 0 else np.nan, axis=1)\n",
    "    df1=pd.DataFrame(df_name[\"surface\"])\n",
    "    df2=pd.DataFrame(df_descriptions[\"surface\"])\n",
    "    df_surface=pd.concat([df1,df2],axis=1)\n",
    "    df_surface.columns=[\"surface_name\",\"surface_descriptions\"]\n",
    "    df_surface['surface'] = df_surface.apply(lambda x: x.dropna().iloc[0] if x.count() > 0 else np.nan, axis=1)\n",
    "    df[\"surface\"]=df_surface[\"surface\"]\n",
    "\n",
    "    ### fixing etage\n",
    "    regex = r\"\\d+\\s*(?:étage|etage)|(?:étage|etage)\\s*\\d+\\s*|\\d+\\s*(?:er|éme|ére)\\s*(?:étage|etage)\"\n",
    "    df_etage=(df[df[\"etage\"].isna()][\"name\"].apply(lambda x:re.findall(regex,x)[0] if len(re.findall(regex,x))>0 else np.nan)).dropna()\n",
    "    df_etage=df_etage.apply(lambda x: re.findall(r'\\d+',x)[0])\n",
    "    df.loc[df_etage.index,\"etage\"]=df_etage\n",
    "\n",
    "    ### subsetting dataframe\n",
    "    df_new=df.dropna(subset=[\"etage\",\"surface\"])\n",
    "\n",
    "    ### fixing salons\n",
    "    df_maisons=df_new[df_new[\"type\"]=='Maisons et villas'][\"Salons\"].fillna(\"3.0\")\n",
    "    df_appartement=df_new[df_new[\"type\"]=='Appartements'][\"Salons\"].fillna(\"1.0\")\n",
    "    df_terr=df_new[df_new[\"type\"]=='Terrains et fermes'][\"Salons\"].fillna(\"0.0\")\n",
    "    df_Bure=df_new[df_new[\"type\"]=='Bureaux et plateaux'][\"Salons\"].fillna(\"0.0\")\n",
    "    df_maga=df_new[df_new[\"type\"]=='Magasins, commerces et locaux industriels'][\"Salons\"].fillna(\"0.0\")\n",
    "    df_new.loc[df_maisons.index,\"Salons\"]=df_maisons\n",
    "    df_new.loc[df_appartement.index,\"Salons\"]=df_appartement\n",
    "    df_new.loc[df_terr.index,\"Salons\"]=df_terr\n",
    "    df_new.loc[df_Bure.index,\"Salons\"]=df_Bure\n",
    "    df_new.loc[df_maga.index,\"Salons\"]=df_maga\n",
    "\n",
    "    ### fixing age\n",
    "\n",
    "    df_new[\"age\"].fillna(df_new[\"age\"].mode()[0],inplace=True)\n",
    "    df_new.dropna(subset=\"Secteur\",inplace=True)\n",
    "\n",
    "    df_new.loc[df_new[\"price\"]==\"Prix non spécifié\",\"price\"]=np.nan\n",
    "    df_new[\"price\"]=df_new[\"price\"].str.replace(\"\\s|DH\",\"\").astype(\"float\")\n",
    "    df_new[\"surface\"]=df_new[\"surface\"].astype(\"float\")\n",
    "    df_new.dropna(subset=[\"price\",\"surface\"],inplace=True)\n",
    "    regions=[\"Marrakech-Safi\",\"Casablanca-Settat\",\"Casablanca-Settat\",\"Rabat-Salé-Kénitra\",\"Rabat-Salé-Kénitra\",\"Casablanca-Settat\",\"Casablanca-Settat\",\"Souss\",\"Rabat-Salé-Kénitra\",\"Fès-Meknès\",\n",
    "        \"Rabat-Salé-Kénitra\",\"Souss-Massa\",\"Fès-Meknès\",\"Casablanca-Settat\",\"Casablanca-Settat\",\"Tanger-Tétouan-Al Hoceïma\",\"Tanger-Tétouan-Al Hoceïma\",\"Casablanca-Settat\",\n",
    "         \"Oriental\",\"Casablanca-Settat\",\"Rabat-Salé-Kénitra\",\"Béni Mellal-Khénifra\",\"Casablanca-Settat\",\"Tanger-Tétouan-Al Hoceïma\",\"Oriental\",\"Tanger-Tétouan-Al Hoceïma\",\"Casablanca-Settat\",\"Casablanca-Settat\",\"Casablanca-Settat\",\"Casablanca-Settat\",\"Oriental\",\"Casablanca-Settat\",\"Rabat-Salé-Kénitra\",\"Sous-Massa\", \n",
    "         \"Rabat-Salé-Kénitra\",\"Casablanca-Settat\"]\n",
    "    dico=dict(zip(df_new.location.unique(),regions))\n",
    "    df_new[\"region\"]=\"nan\"\n",
    "    for index,row in df_new.iterrows():\n",
    "        df_new.loc[index,\"region\"]=dico[row[\"location\"]]\n",
    "\n",
    "    df_new[\"country\"]=\"Morocco\"\n",
    "    df_new.drop(\"name\",axis=1,inplace=True)\n",
    "    df_new.drop_duplicates(inplace=True)\n",
    "\n",
    "    return df_new\n",
    "\n",
    "    \n",
    "    \n",
    "        "
   ]
  },
  {
   "cell_type": "code",
   "execution_count": 25,
   "metadata": {},
   "outputs": [],
   "source": [
    "df_n=Transform(df)"
   ]
  },
  {
   "cell_type": "code",
   "execution_count": 26,
   "metadata": {},
   "outputs": [
    {
     "data": {
      "text/plain": [
       "price           float64\n",
       "type             object\n",
       "location         object\n",
       "descriptions     object\n",
       "age              object\n",
       "Secteur          object\n",
       "Salons           object\n",
       "etage            object\n",
       "surface         float64\n",
       "region           object\n",
       "country          object\n",
       "dtype: object"
      ]
     },
     "execution_count": 26,
     "metadata": {},
     "output_type": "execute_result"
    }
   ],
   "source": [
    "df_n.dtypes"
   ]
  },
  {
   "cell_type": "code",
   "execution_count": 27,
   "metadata": {},
   "outputs": [
    {
     "data": {
      "text/plain": [
       "price           float64\n",
       "type             object\n",
       "location         object\n",
       "descriptions     object\n",
       "age              object\n",
       "Secteur          object\n",
       "Salons           object\n",
       "etage            object\n",
       "surface         float64\n",
       "region           object\n",
       "country          object\n",
       "dtype: object"
      ]
     },
     "execution_count": 27,
     "metadata": {},
     "output_type": "execute_result"
    }
   ],
   "source": [
    "df_n.dtypes"
   ]
  },
  {
   "cell_type": "code",
   "execution_count": 28,
   "metadata": {},
   "outputs": [],
   "source": [
    "def Load(df):\n",
    "    hostname = \"localhost\"\n",
    "    database = \"sell\"\n",
    "    username = \"postgres\"\n",
    "    pwd = \"password\"\n",
    "    port_id = 5432\n",
    "    conn = psycopg2.connect(\n",
    "        host=hostname,\n",
    "        dbname=database,\n",
    "        user=username,\n",
    "        password=pwd,\n",
    "        port=port_id\n",
    "    ) \n",
    "    cursor = conn.cursor()\n",
    "\n",
    "    ###filling Property table\n",
    "    property_tab = df[[\"age\",\"Salons\",\"etage\",\"descriptions\"]].drop_duplicates()\n",
    "    for index, row in property_tab.iterrows():\n",
    "        cursor.execute(\"\"\"\n",
    "            INSERT INTO Property_Dim(age, salon, etage, descriptions) \n",
    "            VALUES (%s, %s, %s, %s)\n",
    "        \"\"\", (\n",
    "            row[\"age\"],\n",
    "            row[\"Salons\"],\n",
    "            row[\"etage\"],\n",
    "            row[\"descriptions\"]\n",
    "        ))\n",
    "\n",
    "    conn.commit()\n",
    "\n",
    "    ###filling Location table\n",
    "    location_tab = df[[\"location\",\"region\",\"country\",\"Secteur\"]].drop_duplicates()\n",
    "    for index, row in location_tab.iterrows():\n",
    "        cursor.execute(\"\"\"\n",
    "            INSERT INTO Location_Dim(city, region, country, secteur) \n",
    "            VALUES (%s, %s, %s, %s)\n",
    "        \"\"\", (\n",
    "            row[\"location\"],\n",
    "            row[\"region\"],\n",
    "            row[\"country\"],\n",
    "            row[\"Secteur\"]\n",
    "        ))\n",
    "\n",
    "    conn.commit()    \n",
    "\n",
    "    ###filling Type table\n",
    "    type_tab = df[[\"type\"]].drop_duplicates()\n",
    "    for index, row in type_tab.iterrows():\n",
    "        cursor.execute(\"\"\"\n",
    "            INSERT INTO Type_Dim(typo) \n",
    "            VALUES (%s)\n",
    "        \"\"\", (\n",
    "            row[\"type\"],\n",
    "            \n",
    "        ))\n",
    "\n",
    "    conn.commit()\n",
    "\n",
    "    ### filling Sales_table\n",
    "    for index,row in df.iterrows():\n",
    "        cursor.execute(\"\"\" \n",
    "            SELECT property_key FROM Property_Dim\n",
    "            WHERE age = %s AND salon = %s AND etage = %s AND descriptions = %s\n",
    "        \"\"\",(\n",
    "            row[\"age\"],\n",
    "            row[\"Salons\"],\n",
    "            row[\"etage\"],\n",
    "            row[\"descriptions\"]))\n",
    "        \n",
    "        property_key=cursor.fetchone()[0]\n",
    "\n",
    "        cursor.execute(\"\"\" \n",
    "            SELECT location_key from Location_Dim\n",
    "            WHERE city=%s and region=%s and country=%s and secteur=%s\n",
    "        \"\"\",(\n",
    "            row[\"location\"],\n",
    "            row[\"region\"],\n",
    "            row[\"country\"],\n",
    "            row[\"Secteur\"]))\n",
    "        location_key=cursor.fetchone()[0]\n",
    "\n",
    "        cursor.execute(\"\"\" \n",
    "            SELECT type_key from Type_Dim\n",
    "            WHERE typo=%s\n",
    "        \"\"\",(\n",
    "            row[\"type\"],))\n",
    "        type_key=cursor.fetchone()[0]\n",
    "\n",
    "        cursor.execute(\"\"\"\n",
    "            INSERT INTO Sales_Fact(property_key,location_key,type_key, price,surface) \n",
    "            VALUES (%s, %s, %s, %s, %s)\n",
    "        \"\"\",(\n",
    "            property_key,\n",
    "            location_key,\n",
    "            type_key,\n",
    "            row[\"price\"],\n",
    "            row[\"surface\"]\n",
    "        ))\n",
    "        conn.commit()\n",
    "\n",
    "\n",
    "    # Close the database connection\n",
    "    cursor.close()\n",
    "    conn.close()\n",
    "\n",
    "     \n",
    "        \n",
    "\n",
    "\n"
   ]
  },
  {
   "cell_type": "code",
   "execution_count": 29,
   "metadata": {},
   "outputs": [],
   "source": [
    "\n",
    "def ETL(file):\n",
    "    df=Extract(file)\n",
    "    df=Transform(df)\n",
    "    Load(df)\n"
   ]
  },
  {
   "cell_type": "code",
   "execution_count": 30,
   "metadata": {},
   "outputs": [],
   "source": [
    "ETL(\"immobilier_avito-final.csv\")"
   ]
  },
  {
   "cell_type": "code",
   "execution_count": null,
   "metadata": {},
   "outputs": [],
   "source": []
  }
 ],
 "metadata": {
  "kernelspec": {
   "display_name": "Python 3",
   "language": "python",
   "name": "python3"
  },
  "language_info": {
   "codemirror_mode": {
    "name": "ipython",
    "version": 3
   },
   "file_extension": ".py",
   "mimetype": "text/x-python",
   "name": "python",
   "nbconvert_exporter": "python",
   "pygments_lexer": "ipython3",
   "version": "3.11.0"
  },
  "orig_nbformat": 4
 },
 "nbformat": 4,
 "nbformat_minor": 2
}
